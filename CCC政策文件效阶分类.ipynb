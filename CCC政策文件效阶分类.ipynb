{
 "cells": [
  {
   "attachments": {},
   "cell_type": "markdown",
   "metadata": {},
   "source": [
    "**SMS 3.1(初始算法)**"
   ]
  },
  {
   "cell_type": "code",
   "execution_count": 1,
   "metadata": {},
   "outputs": [],
   "source": [
    "#环境激活\n",
    "import os"
   ]
  },
  {
   "cell_type": "code",
   "execution_count": 2,
   "metadata": {},
   "outputs": [
    {
     "name": "stdout",
     "output_type": "stream",
     "text": [
      "0 0 0 0 0 0 0\n"
     ]
    }
   ],
   "source": [
    "#检索词年度命中\n",
    "b1 = [i for i in os.listdir('./分组下载/法律/')]\n",
    "b2 = [i for i in os.listdir('./分组下载/行政法规/')]\n",
    "b3 = [i for i in os.listdir('./分组下载/司法解释/')]\n",
    "b4 = [i for i in os.listdir('./分组下载/部门规章/')]\n",
    "b5 = [i for i in os.listdir('./分组下载/党内法规制度/')]\n",
    "b6 = [i for i in os.listdir('./分组下载/团体规定/')]\n",
    "b7 = [i for i in os.listdir('./分组下载/行业规定/')]\n",
    "b11=[]\n",
    "b22=[]\n",
    "b33=[]\n",
    "b44=[]\n",
    "b55=[]\n",
    "b66=[]\n",
    "b77=[]\n",
    "print(len(b1),len(b2),len(b3), len(b4), len(b5), len(b6),len(b7))\n",
    "b8 = b1+b2+b3+b4+b5+b6+b7\n",
    "jieduan = './S第二阶段seg_str/'#需输入具体的处理阶段"
   ]
  },
  {
   "cell_type": "code",
   "execution_count": 7,
   "metadata": {},
   "outputs": [
    {
     "name": "stdout",
     "output_type": "stream",
     "text": [
      "3 11 2 650 9 1 0\n"
     ]
    }
   ],
   "source": [
    "#检索词频次\n",
    "for i in os.listdir(jieduan):\n",
    "    if i in b1:\n",
    "        b11.append(i)\n",
    "    elif i in b2:\n",
    "        b22.append(i)\n",
    "    elif i in b3:\n",
    "        b33.append(i)\n",
    "    elif i in b4:\n",
    "        b44.append(i)\n",
    "    elif i in b5:\n",
    "        b55.append(i)\n",
    "    elif i in b6:\n",
    "        b66.append(i)\n",
    "    elif i in b7:\n",
    "        b77.append(i)\n",
    "    else:\n",
    "        continue\n",
    "\n",
    "print(len(b11), len(b22),len(b33), len(b44), len(b55), len(b66),len(b77))"
   ]
  }
 ],
 "metadata": {
  "kernelspec": {
   "display_name": "Python 3",
   "language": "python",
   "name": "python3"
  },
  "language_info": {
   "codemirror_mode": {
    "name": "ipython",
    "version": 3
   },
   "file_extension": ".py",
   "mimetype": "text/x-python",
   "name": "python",
   "nbconvert_exporter": "python",
   "pygments_lexer": "ipython3",
   "version": "3.7.8"
  },
  "orig_nbformat": 4,
  "vscode": {
   "interpreter": {
    "hash": "fd6cb6fd77b58ccead11d532db52aa25d5d2f385114270479a47b62f431339b2"
   }
  }
 },
 "nbformat": 4,
 "nbformat_minor": 2
}
