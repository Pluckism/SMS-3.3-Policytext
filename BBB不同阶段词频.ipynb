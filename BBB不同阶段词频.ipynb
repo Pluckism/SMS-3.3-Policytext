{
 "cells": [
  {
   "attachments": {},
   "cell_type": "markdown",
   "metadata": {},
   "source": [
    "**SMS 3.1(主题词频探究)**"
   ]
  },
  {
   "cell_type": "code",
   "execution_count": null,
   "metadata": {},
   "outputs": [],
   "source": [
    "#环境激活\n",
    "import os\n",
    "\n",
    "from paddlenlp import Taskflow"
   ]
  },
  {
   "cell_type": "code",
   "execution_count": null,
   "metadata": {},
   "outputs": [],
   "source": [
    "#装载算法\n",
    "# seg = Taskflow('word_segmentation', user_dict = './userdict/userdict-paddle.txt', mode = 'accurate', batch_size=32)\n",
    "tag = Taskflow('pos_tagging', user_dict ='./dict/user_dict.txt', mode='accurate', batch_size=32)"
   ]
  },
  {
   "cell_type": "code",
   "execution_count": null,
   "metadata": {},
   "outputs": [],
   "source": [
    "if __name__ == '__main__':\n",
    "    \n",
    "    stop_path = './dict/hit_stopwords.txt'#停用词位置\n",
    "    data_path = './按照阶段合并/第一阶段/'#此处需要输入具体想要分析的阶段"
   ]
  },
  {
   "cell_type": "code",
   "execution_count": null,
   "metadata": {},
   "outputs": [],
   "source": [
    "#装载词典\n",
    "def LL_stop(stop_path):\n",
    "    f_stop = open(stop_path,'r', encoding='utf-8') \n",
    "    sw = [line.strip() for line in f_stop]\n",
    "    f_stop.close()\n",
    "    return sw"
   ]
  },
  {
   "cell_type": "code",
   "execution_count": null,
   "metadata": {},
   "outputs": [],
   "source": [
    "#辅助手段\n",
    "filter_list = ['v','n','an']\n",
    "\n",
    "filter_result = []\n",
    "\n",
    "for id in os.listdir(data_path):\n",
    "\n",
    "    pre_cor = open(data_path + id, 'r', encoding='utf-8')\n",
    "    cor = pre_cor.read()\n",
    "    re_tag = [item for item in tag(cor)]\n",
    "    pre_cor.close()#关闭文件\n",
    "    for word,flag in re_tag:\n",
    "        if flag in filter_list:\n",
    "            filter_result.append(word)  \n",
    "LL_fenci = [term for term in filter_result if term not in LL_stop(stop_path) and len(term) > 1]"
   ]
  },
  {
   "cell_type": "code",
   "execution_count": null,
   "metadata": {},
   "outputs": [],
   "source": [
    "#输出该阶段词频总数\n",
    "print(len(LL_fenci))"
   ]
  },
  {
   "cell_type": "code",
   "execution_count": null,
   "metadata": {},
   "outputs": [],
   "source": [
    "#主题词频探索\n",
    "count = {}\n",
    "for word in LL_fenci:\n",
    "    count[word] = count.get(word, 0) +1\n",
    "list1 = list(count.items())\n",
    "list1.sort(key = lambda x: x[1], reverse=True)\n",
    "\n",
    "for i in range(11):\n",
    "    word, number = list1[i]\n",
    "    print('关键词：{},频次：{},词频率{}'.format(word, number,(number/(len(LL_fenci)))))"
   ]
  }
 ],
 "metadata": {
  "kernelspec": {
   "display_name": "Python 3",
   "language": "python",
   "name": "python3"
  },
  "language_info": {
   "codemirror_mode": {
    "name": "ipython",
    "version": 3
   },
   "file_extension": ".py",
   "mimetype": "text/x-python",
   "name": "python",
   "nbconvert_exporter": "python",
   "pygments_lexer": "ipython3",
   "version": "3.7.8"
  },
  "orig_nbformat": 4,
  "vscode": {
   "interpreter": {
    "hash": "fd6cb6fd77b58ccead11d532db52aa25d5d2f385114270479a47b62f431339b2"
   }
  }
 },
 "nbformat": 4,
 "nbformat_minor": 2
}
