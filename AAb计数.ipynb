{
 "cells": [
  {
   "attachments": {},
   "cell_type": "markdown",
   "metadata": {},
   "source": [
    "**SMS 3.1(描述性统计)**"
   ]
  },
  {
   "cell_type": "code",
   "execution_count": null,
   "metadata": {},
   "outputs": [],
   "source": [
    "#环境激活\n",
    "import os\n",
    "import jieba as jb"
   ]
  },
  {
   "cell_type": "code",
   "execution_count": null,
   "metadata": {},
   "outputs": [],
   "source": [
    "#简易算法\n",
    "jb.load_userdict('./dict/user_dict.txt')"
   ]
  },
  {
   "cell_type": "code",
   "execution_count": null,
   "metadata": {},
   "outputs": [],
   "source": [
    "hebing = './A政策文本合并/合并/'\n",
    "counter = ['检索词1','检索词2','检索词3']#此处为检索词"
   ]
  },
  {
   "cell_type": "code",
   "execution_count": null,
   "metadata": {},
   "outputs": [],
   "source": [
    "#检索词年度数量汇报\n",
    "for i in os.listdir(hebing):\n",
    "    count = []\n",
    "    shuliang = []\n",
    "    for filename in os.listdir(hebing + i):\n",
    "        shuliang.append(filename)\n",
    "    print(i +'的数量：' + str(len(shuliang)))"
   ]
  },
  {
   "cell_type": "code",
   "execution_count": null,
   "metadata": {},
   "outputs": [],
   "source": [
    "#检索词年度命中情况汇报\n",
    "for i in os.listdir(hebing):\n",
    "    count = []\n",
    "    shuliang = []\n",
    "    for filename in os.listdir(hebing + i):\n",
    "        pre_cor = open(hebing + i + '/' + filename, 'r', encoding='utf-8')\n",
    "        cor = pre_cor.read()\n",
    "        seged = jb.lcut(cor)\n",
    "        pre_cor.close()\n",
    "\n",
    "        for item in seged:\n",
    "            if item in counter:\n",
    "                count.append(item)\n",
    "    print(i + '的命中次数：' + str(len(count)))"
   ]
  }
 ],
 "metadata": {
  "kernelspec": {
   "display_name": "Python 3",
   "language": "python",
   "name": "python3"
  },
  "language_info": {
   "codemirror_mode": {
    "name": "ipython",
    "version": 3
   },
   "file_extension": ".py",
   "mimetype": "text/x-python",
   "name": "python",
   "nbconvert_exporter": "python",
   "pygments_lexer": "ipython3",
   "version": "3.7.8"
  },
  "orig_nbformat": 4,
  "vscode": {
   "interpreter": {
    "hash": "fd6cb6fd77b58ccead11d532db52aa25d5d2f385114270479a47b62f431339b2"
   }
  }
 },
 "nbformat": 4,
 "nbformat_minor": 2
}
