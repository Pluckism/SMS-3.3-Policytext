{
 "cells": [
  {
   "cell_type": "code",
   "execution_count": null,
   "metadata": {},
   "outputs": [],
   "source": [
    "#环境激活\n",
    "from paddlenlp import Taskflow \n",
    "\n",
    "import os, re"
   ]
  },
  {
   "cell_type": "code",
   "execution_count": null,
   "metadata": {},
   "outputs": [],
   "source": [
    "#装载算法\n",
    "tag = Taskflow('pos_tagging', user_dict ='./dict/user_dict.txt', mode='accurate', batch_size=32)"
   ]
  },
  {
   "cell_type": "code",
   "execution_count": null,
   "metadata": {},
   "outputs": [],
   "source": [
    "if __name__ == '__main__':#传入参数\n",
    "    \n",
    "    stop_path = './dict/hit_stopwords.txt'#停用词位置\n",
    "    dict_path = './dict/user_dict.txt'#用户自定义词典\n",
    "    data_path = './按照阶段合并/第二阶段/'#爬虫初始资料\n",
    "    cluster = './聚类结果.txt'"
   ]
  },
  {
   "cell_type": "code",
   "execution_count": null,
   "metadata": {},
   "outputs": [],
   "source": [
    "#装载词典\n",
    "def LL_stop(stop_path): # 装载哈工大中文停用词表\n",
    "    f_stop = open(stop_path,'r', encoding='utf-8') \n",
    "    sw = [line.strip() for line in f_stop]  # 首次遍历停用词表\n",
    "    f_stop.close()  #清空缓存 \n",
    "    return sw"
   ]
  },
  {
   "cell_type": "code",
   "execution_count": null,
   "metadata": {},
   "outputs": [],
   "source": [
    "#重新分词\n",
    "filter_list = ['v','n','an']\n",
    "\n",
    "filter_result = []\n",
    "\n",
    "for id in os.listdir(data_path):\n",
    "\n",
    "    pre_cor = open(data_path + id, 'r', encoding='utf-8')\n",
    "    cor = pre_cor.read()\n",
    "    re_tag = [item for item in tag(cor)]\n",
    "    pre_cor.close()#关闭文件\n",
    "    for word,flag in re_tag:\n",
    "        if flag in filter_list:\n",
    "            filter_result.append(word)  \n",
    "LL_fenci = [term for term in filter_result if term not in LL_stop(stop_path) and len(term) > 1]\n"
   ]
  },
  {
   "cell_type": "code",
   "execution_count": null,
   "metadata": {},
   "outputs": [],
   "source": [
    "#辅助装填\n",
    "cluster_cc = open(cluster, 'r',encoding='utf-8').read()\n",
    "cluster_cc = str(re.split('\\n', cluster_cc))\n",
    "print(cluster_cc)"
   ]
  },
  {
   "attachments": {},
   "cell_type": "markdown",
   "metadata": {},
   "source": [
    "`*******以下参数只需修改一次********`"
   ]
  },
  {
   "cell_type": "code",
   "execution_count": null,
   "metadata": {},
   "outputs": [],
   "source": [
    "cluster1=['设备', '科技推广', '引进', '能源', '秸秆', '沼气', '装备', '新技术', '农业机械', '农业工程', '科技进步', '良种', '新品种', '科技示范', '科技成果', '科技', '职业教育', '科学', '创新', '农业科技', '科教']\n",
    "cluster2= ['专业', '品牌', '证书', '地理标志农产品', '程序', '无公害农产品', '登记', '商标', '特色', '无公害', '农场', '农业标准化', '产地环境', '特色农产品', '认证', '食品安全', '产销', '原料基地', '人民', '名牌', '名牌战略', '消费者', '三品一标', '兴农', '优价', '无污染']\n",
    "cluster3= ['金融', '财政', '信贷', '财政支持', '金融服务', '投资', '订单', '村企', '投资', '经济', '资金', '农村经济', '合作社']\n",
    "cluster4= ['资源', '生态', '环境', '生态环境', '自然', '生态保护', '文化', '基础设施', '土壤', '基础设施建设', '特色农业', '生态环境保护', '农田', '农业资源', '环保', '旅游业', '生态文明', '生态建设', '产业结构调整', '污染', '土壤污染', '环境保护', '绿色产业']\n",
    "cluster5= ['渠道', '宣传', '资料', '法规', '法律', '肥料', '下乡', '案例', '合作', '标准', '批发市场', '技术服务', '技术', '网络', '信息', '市场']\n",
    "cluster6= ['农药', '畜禽', '农机', '补贴', '农作物', '机具', '保护性耕作', '有机肥', '机械', '农膜', '农业机械化', '技术服务', '粪污资源化', '地膜', '分项', '粪污', '增产', '旱作节水', '化肥', '废弃物']\n",
    "cluster7= ['龙头企业', '试点', '家庭农场', '示范基地', '产业发展', '先行区', '人才', '农民增收', '产业融合', '基地建设', '物流', '贫困地区', '乡村振兴', '集群', '产业链', '农产品基地', '农业结构', '农业现代化', '农民收入', '农业产业园', '集体经济', '产业体系', '粮食安全', '菜篮子', '电子商务', '乡村产业', '产业强镇', '经济结构', '产业扶贫', '智慧农业', '脱贫地区', '绿色消费', '脱贫']"
   ]
  },
  {
   "cell_type": "code",
   "execution_count": null,
   "metadata": {},
   "outputs": [],
   "source": [
    "#开始计数\n",
    "c11 = []\n",
    "c22 = []\n",
    "c33 = []\n",
    "c44 = []\n",
    "c55 = []\n",
    "c66 = []\n",
    "c77 = []\n",
    "for item in LL_fenci:\n",
    "    if item in cluster1:\n",
    "        c11.append(item)\n",
    "    elif item in cluster2:\n",
    "        c22.append(item)\n",
    "    elif item in cluster3:\n",
    "        c33.append(item)\n",
    "    elif item in cluster4:\n",
    "        c44.append(item)\n",
    "    elif item in cluster5:\n",
    "        c55.append(item)\n",
    "    elif item in cluster6:\n",
    "        c66.append(item)\n",
    "    elif item in cluster7:\n",
    "        c77.append(item)\n",
    "    else:\n",
    "        continue\n",
    "\n",
    "print('c11:{},c22:{},c33:{},c44:{},c55:{},c66:{},c77:{}'.format(len(c11),len(c22),len(c33),len(c44),len(c55),len(c66),len(c77)))\n"
   ]
  }
 ],
 "metadata": {
  "kernelspec": {
   "display_name": "Python 3",
   "language": "python",
   "name": "python3"
  },
  "language_info": {
   "codemirror_mode": {
    "name": "ipython",
    "version": 3
   },
   "file_extension": ".py",
   "mimetype": "text/x-python",
   "name": "python",
   "nbconvert_exporter": "python",
   "pygments_lexer": "ipython3",
   "version": "3.7.8"
  },
  "orig_nbformat": 4,
  "vscode": {
   "interpreter": {
    "hash": "fd6cb6fd77b58ccead11d532db52aa25d5d2f385114270479a47b62f431339b2"
   }
  }
 },
 "nbformat": 4,
 "nbformat_minor": 2
}
