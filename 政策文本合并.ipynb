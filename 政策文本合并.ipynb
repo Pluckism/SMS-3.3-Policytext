{
 "cells": [
  {
   "attachments": {},
   "cell_type": "markdown",
   "metadata": {},
   "source": [
    "**SMS 3.1（政策文本合并）**"
   ]
  },
  {
   "cell_type": "code",
   "execution_count": 1,
   "metadata": {},
   "outputs": [],
   "source": [
    "#激活环境\n",
    "import os"
   ]
  },
  {
   "cell_type": "code",
   "execution_count": null,
   "metadata": {},
   "outputs": [],
   "source": [
    "out_path = './合并/'#此处不要改动\n",
    "pre_pro = './检索词2/'#此处选择被合并的文件夹路径（一次只能合并一个检索词）"
   ]
  },
  {
   "cell_type": "code",
   "execution_count": 3,
   "metadata": {},
   "outputs": [],
   "source": [
    "#辅助手段\n",
    "field_id = [i for i in os.listdir(pre_pro)]\n",
    "\n",
    "compare_fileid = []\n",
    "for i in field_id:#遍历对比项的文件名\n",
    "    for j in os.listdir(pre_pro + i):\n",
    "        compare_fileid.append(j)\n",
    "\n",
    "\n",
    "ori = [i for i in os.listdir(out_path)]\n",
    "\n",
    "ori_fileid = []\n",
    "for i in ori:\n",
    "    for j in os.listdir(out_path + i):\n",
    "        ori_fileid.append(j)\n"
   ]
  },
  {
   "cell_type": "code",
   "execution_count": 4,
   "metadata": {},
   "outputs": [],
   "source": [
    "#以下代码块用于查找相同的政策文件，并将其内容进行合并\n",
    "for term in compare_fileid:\n",
    "    if term in ori_fileid:\n",
    "        for k in field_id:\n",
    "            for l in os.listdir(pre_pro + k):\n",
    "                if term == l:\n",
    "                    compare3 = open(pre_pro + k + '/' + l, 'r', encoding = 'utf-8')\n",
    "                    compare4 = compare3.read()\n",
    "                    compare3.close()\n",
    "        for m in ori:\n",
    "            for n in os.listdir(out_path + m):\n",
    "                if term == n:\n",
    "                    ori_cor1 = open(pre_pro + m + '/' + n, 'r', encoding = 'utf-8')\n",
    "                    ori_cor2 = ori_cor1.read()\n",
    "                    ori_cor1.close()\n",
    "                    print(n)\n",
    "                    com_path2 = ''.join(pre_pro + m + '/' + n)\n",
    "                    com_path2 = com_path2.split(sep='/')\n",
    "                    com2 = com_path2[2]\n",
    "        print(ori_cor2 + '\\n' + compare4, end='',file = open(out_path + '/'+ com2 + '/' + term, 'w', encoding='utf-8'))"
   ]
  },
  {
   "cell_type": "code",
   "execution_count": 5,
   "metadata": {},
   "outputs": [],
   "source": [
    "#以下代码块用于查找不同的政策文件，并将其存储到“合并”文件夹里\n",
    "for term in compare_fileid:\n",
    "    if term not in ori_fileid:\n",
    "        for i in field_id:\n",
    "            for j in os.listdir(pre_pro + i):\n",
    "                if term == j:\n",
    "                    compare1 = open(pre_pro + i + '/' + j, 'r', encoding = 'utf-8')\n",
    "                    compare2 = compare1.read()\n",
    "                    compare1.close()\n",
    "                    com_path = ''.join(pre_pro + i + '/' + j)\n",
    "                    com_path = com_path.split(sep='/')\n",
    "                    com = com_path[2]\n",
    "        print(compare2, end='',file = open(out_path + '/'+ com + '/' + term, 'w', encoding='utf-8'))"
   ]
  }
 ],
 "metadata": {
  "kernelspec": {
   "display_name": "Python 3",
   "language": "python",
   "name": "python3"
  },
  "language_info": {
   "codemirror_mode": {
    "name": "ipython",
    "version": 3
   },
   "file_extension": ".py",
   "mimetype": "text/x-python",
   "name": "python",
   "nbconvert_exporter": "python",
   "pygments_lexer": "ipython3",
   "version": "3.7.8"
  },
  "orig_nbformat": 4,
  "vscode": {
   "interpreter": {
    "hash": "fd6cb6fd77b58ccead11d532db52aa25d5d2f385114270479a47b62f431339b2"
   }
  }
 },
 "nbformat": 4,
 "nbformat_minor": 2
}
